{
  "cells": [
    {
      "metadata": {},
      "cell_type": "markdown",
      "source": "# Data Collection"
    },
    {
      "metadata": {
        "trusted": true
      },
      "cell_type": "code",
      "source": "import json\nimport sys\nsys.path.append('/home/nbuser/library/')\nimport pandas as pd\nimport requests",
      "execution_count": 5,
      "outputs": []
    },
    {
      "metadata": {},
      "cell_type": "markdown",
      "source": "API Call\nFirst step - Get URL from documentation\nSecond step - look at the required parameters\nThird step - Catch when status code does not equal to 200"
    },
    {
      "metadata": {
        "trusted": true
      },
      "cell_type": "code",
      "source": "def get_C18pop(x,y):\n    \n    url = 'https://koordinates.com/services/query/v1/vector.json'\n\n    params = {\n        'key' : 'aa35290d615e43c4ad41b17c7a08881e',\n        'layer' : 104612,\n        'x' : x,\n        'y' : y\n    }\n\n    response = requests.get(url, params=params)\n    \n    if response.status_code != 200:\n        return response.status_code\n    \n    C18pop = response.json()['vectorQuery']['layers']['104612']['features'][0]['properties']['C18_CURPop']\n    return C18pop\n",
      "execution_count": 44,
      "outputs": []
    },
    {
      "metadata": {},
      "cell_type": "markdown",
      "source": "# Putting C18pop into the CSV\n\n\n\n"
    },
    {
      "metadata": {
        "trusted": true
      },
      "cell_type": "code",
      "source": "datafile = pd.read_csv('Dataset.csv')\nsample = datafile.head()",
      "execution_count": 69,
      "outputs": []
    },
    {
      "metadata": {},
      "cell_type": "markdown",
      "source": "## Testing with sample first"
    },
    {
      "metadata": {
        "trusted": true
      },
      "cell_type": "code",
      "source": "sample",
      "execution_count": 55,
      "outputs": [
        {
          "output_type": "execute_result",
          "execution_count": 55,
          "data": {
            "text/html": "<div>\n<style scoped>\n    .dataframe tbody tr th:only-of-type {\n        vertical-align: middle;\n    }\n\n    .dataframe tbody tr th {\n        vertical-align: top;\n    }\n\n    .dataframe thead th {\n        text-align: right;\n    }\n</style>\n<table border=\"1\" class=\"dataframe\">\n  <thead>\n    <tr style=\"text-align: right;\">\n      <th></th>\n      <th>Bedrooms</th>\n      <th>Bathrooms</th>\n      <th>Address</th>\n      <th>Land area</th>\n      <th>CV</th>\n      <th>Latitude</th>\n      <th>Longitude</th>\n      <th>SA1</th>\n      <th>0-19 years</th>\n      <th>20-29 years</th>\n      <th>30-39 years</th>\n      <th>40-49 years</th>\n      <th>50-59 years</th>\n      <th>60+ years</th>\n      <th>Suburbs</th>\n    </tr>\n  </thead>\n  <tbody>\n    <tr>\n      <th>0</th>\n      <td>5</td>\n      <td>3.0</td>\n      <td>106 Lawrence Crescent Hill Park, Auckland</td>\n      <td>714</td>\n      <td>960000</td>\n      <td>-37.012920</td>\n      <td>174.904069</td>\n      <td>7009770</td>\n      <td>48</td>\n      <td>27</td>\n      <td>24</td>\n      <td>21</td>\n      <td>24</td>\n      <td>21</td>\n      <td>Manurewa</td>\n    </tr>\n    <tr>\n      <th>1</th>\n      <td>5</td>\n      <td>3.0</td>\n      <td>8 Corsica Way Karaka, Auckland</td>\n      <td>564</td>\n      <td>1250000</td>\n      <td>-37.063672</td>\n      <td>174.922912</td>\n      <td>7009991</td>\n      <td>42</td>\n      <td>18</td>\n      <td>12</td>\n      <td>21</td>\n      <td>15</td>\n      <td>30</td>\n      <td>Karaka</td>\n    </tr>\n    <tr>\n      <th>2</th>\n      <td>6</td>\n      <td>4.0</td>\n      <td>243 Harbourside Drive Karaka, Auckland</td>\n      <td>626</td>\n      <td>1250000</td>\n      <td>-37.063580</td>\n      <td>174.924044</td>\n      <td>7009991</td>\n      <td>42</td>\n      <td>18</td>\n      <td>12</td>\n      <td>21</td>\n      <td>15</td>\n      <td>30</td>\n      <td>Karaka</td>\n    </tr>\n    <tr>\n      <th>3</th>\n      <td>2</td>\n      <td>1.0</td>\n      <td>2/30 Hardington Street Onehunga, Auckland</td>\n      <td>65</td>\n      <td>740000</td>\n      <td>-36.912996</td>\n      <td>174.787425</td>\n      <td>7007871</td>\n      <td>42</td>\n      <td>6</td>\n      <td>21</td>\n      <td>21</td>\n      <td>12</td>\n      <td>15</td>\n      <td>Onehunga</td>\n    </tr>\n    <tr>\n      <th>4</th>\n      <td>3</td>\n      <td>1.0</td>\n      <td>59 Israel Avenue Clover Park, Auckland</td>\n      <td>601</td>\n      <td>630000</td>\n      <td>-36.979037</td>\n      <td>174.892612</td>\n      <td>7008902</td>\n      <td>93</td>\n      <td>27</td>\n      <td>33</td>\n      <td>30</td>\n      <td>21</td>\n      <td>33</td>\n      <td>Clover Park</td>\n    </tr>\n  </tbody>\n</table>\n</div>",
            "text/plain": "   Bedrooms  Bathrooms                                    Address Land area  \\\n0         5        3.0  106 Lawrence Crescent Hill Park, Auckland       714   \n1         5        3.0             8 Corsica Way Karaka, Auckland       564   \n2         6        4.0     243 Harbourside Drive Karaka, Auckland       626   \n3         2        1.0  2/30 Hardington Street Onehunga, Auckland        65   \n4         3        1.0     59 Israel Avenue Clover Park, Auckland       601   \n\n        CV   Latitude   Longitude      SA1  0-19 years  20-29 years  \\\n0   960000 -37.012920  174.904069  7009770          48           27   \n1  1250000 -37.063672  174.922912  7009991          42           18   \n2  1250000 -37.063580  174.924044  7009991          42           18   \n3   740000 -36.912996  174.787425  7007871          42            6   \n4   630000 -36.979037  174.892612  7008902          93           27   \n\n   30-39 years  40-49 years  50-59 years  60+ years      Suburbs  \n0           24           21           24         21     Manurewa  \n1           12           21           15         30       Karaka  \n2           12           21           15         30       Karaka  \n3           21           21           12         15     Onehunga  \n4           33           30           21         33  Clover Park  "
          },
          "metadata": {}
        }
      ]
    },
    {
      "metadata": {
        "trusted": true
      },
      "cell_type": "code",
      "source": "sample['C18_CURPop'] = sample.apply(lambda row: get_C18pop(row['Longitude'], row['Latitude']), axis = 1)",
      "execution_count": 56,
      "outputs": [
        {
          "output_type": "stream",
          "text": "/home/nbuser/anaconda3_501/lib/python3.6/site-packages/ipykernel/__main__.py:1: SettingWithCopyWarning: \nA value is trying to be set on a copy of a slice from a DataFrame.\nTry using .loc[row_indexer,col_indexer] = value instead\n\nSee the caveats in the documentation: http://pandas.pydata.org/pandas-docs/stable/indexing.html#indexing-view-versus-copy\n  if __name__ == '__main__':\n",
          "name": "stderr"
        }
      ]
    },
    {
      "metadata": {
        "trusted": true
      },
      "cell_type": "code",
      "source": "sample",
      "execution_count": 57,
      "outputs": [
        {
          "output_type": "execute_result",
          "execution_count": 57,
          "data": {
            "text/html": "<div>\n<style scoped>\n    .dataframe tbody tr th:only-of-type {\n        vertical-align: middle;\n    }\n\n    .dataframe tbody tr th {\n        vertical-align: top;\n    }\n\n    .dataframe thead th {\n        text-align: right;\n    }\n</style>\n<table border=\"1\" class=\"dataframe\">\n  <thead>\n    <tr style=\"text-align: right;\">\n      <th></th>\n      <th>Bedrooms</th>\n      <th>Bathrooms</th>\n      <th>Address</th>\n      <th>Land area</th>\n      <th>CV</th>\n      <th>Latitude</th>\n      <th>Longitude</th>\n      <th>SA1</th>\n      <th>0-19 years</th>\n      <th>20-29 years</th>\n      <th>30-39 years</th>\n      <th>40-49 years</th>\n      <th>50-59 years</th>\n      <th>60+ years</th>\n      <th>Suburbs</th>\n      <th>C18_CURPop</th>\n    </tr>\n  </thead>\n  <tbody>\n    <tr>\n      <th>0</th>\n      <td>5</td>\n      <td>3.0</td>\n      <td>106 Lawrence Crescent Hill Park, Auckland</td>\n      <td>714</td>\n      <td>960000</td>\n      <td>-37.012920</td>\n      <td>174.904069</td>\n      <td>7009770</td>\n      <td>48</td>\n      <td>27</td>\n      <td>24</td>\n      <td>21</td>\n      <td>24</td>\n      <td>21</td>\n      <td>Manurewa</td>\n      <td>174</td>\n    </tr>\n    <tr>\n      <th>1</th>\n      <td>5</td>\n      <td>3.0</td>\n      <td>8 Corsica Way Karaka, Auckland</td>\n      <td>564</td>\n      <td>1250000</td>\n      <td>-37.063672</td>\n      <td>174.922912</td>\n      <td>7009991</td>\n      <td>42</td>\n      <td>18</td>\n      <td>12</td>\n      <td>21</td>\n      <td>15</td>\n      <td>30</td>\n      <td>Karaka</td>\n      <td>129</td>\n    </tr>\n    <tr>\n      <th>2</th>\n      <td>6</td>\n      <td>4.0</td>\n      <td>243 Harbourside Drive Karaka, Auckland</td>\n      <td>626</td>\n      <td>1250000</td>\n      <td>-37.063580</td>\n      <td>174.924044</td>\n      <td>7009991</td>\n      <td>42</td>\n      <td>18</td>\n      <td>12</td>\n      <td>21</td>\n      <td>15</td>\n      <td>30</td>\n      <td>Karaka</td>\n      <td>129</td>\n    </tr>\n    <tr>\n      <th>3</th>\n      <td>2</td>\n      <td>1.0</td>\n      <td>2/30 Hardington Street Onehunga, Auckland</td>\n      <td>65</td>\n      <td>740000</td>\n      <td>-36.912996</td>\n      <td>174.787425</td>\n      <td>7007871</td>\n      <td>42</td>\n      <td>6</td>\n      <td>21</td>\n      <td>21</td>\n      <td>12</td>\n      <td>15</td>\n      <td>Onehunga</td>\n      <td>120</td>\n    </tr>\n    <tr>\n      <th>4</th>\n      <td>3</td>\n      <td>1.0</td>\n      <td>59 Israel Avenue Clover Park, Auckland</td>\n      <td>601</td>\n      <td>630000</td>\n      <td>-36.979037</td>\n      <td>174.892612</td>\n      <td>7008902</td>\n      <td>93</td>\n      <td>27</td>\n      <td>33</td>\n      <td>30</td>\n      <td>21</td>\n      <td>33</td>\n      <td>Clover Park</td>\n      <td>231</td>\n    </tr>\n  </tbody>\n</table>\n</div>",
            "text/plain": "   Bedrooms  Bathrooms                                    Address Land area  \\\n0         5        3.0  106 Lawrence Crescent Hill Park, Auckland       714   \n1         5        3.0             8 Corsica Way Karaka, Auckland       564   \n2         6        4.0     243 Harbourside Drive Karaka, Auckland       626   \n3         2        1.0  2/30 Hardington Street Onehunga, Auckland        65   \n4         3        1.0     59 Israel Avenue Clover Park, Auckland       601   \n\n        CV   Latitude   Longitude      SA1  0-19 years  20-29 years  \\\n0   960000 -37.012920  174.904069  7009770          48           27   \n1  1250000 -37.063672  174.922912  7009991          42           18   \n2  1250000 -37.063580  174.924044  7009991          42           18   \n3   740000 -36.912996  174.787425  7007871          42            6   \n4   630000 -36.979037  174.892612  7008902          93           27   \n\n   30-39 years  40-49 years  50-59 years  60+ years      Suburbs  C18_CURPop  \n0           24           21           24         21     Manurewa         174  \n1           12           21           15         30       Karaka         129  \n2           12           21           15         30       Karaka         129  \n3           21           21           12         15     Onehunga         120  \n4           33           30           21         33  Clover Park         231  "
          },
          "metadata": {}
        }
      ]
    },
    {
      "metadata": {},
      "cell_type": "markdown",
      "source": "## Converting in Datafile "
    },
    {
      "metadata": {
        "trusted": true
      },
      "cell_type": "code",
      "source": "datafile['C18_CURPop'] = datafile.apply(lambda row: get_C18pop(row['Longitude'], row['Latitude']), axis = 1)",
      "execution_count": 71,
      "outputs": []
    },
    {
      "metadata": {
        "trusted": true
      },
      "cell_type": "code",
      "source": "datafile.head()",
      "execution_count": 72,
      "outputs": [
        {
          "output_type": "execute_result",
          "execution_count": 72,
          "data": {
            "text/html": "<div>\n<style scoped>\n    .dataframe tbody tr th:only-of-type {\n        vertical-align: middle;\n    }\n\n    .dataframe tbody tr th {\n        vertical-align: top;\n    }\n\n    .dataframe thead th {\n        text-align: right;\n    }\n</style>\n<table border=\"1\" class=\"dataframe\">\n  <thead>\n    <tr style=\"text-align: right;\">\n      <th></th>\n      <th>Bedrooms</th>\n      <th>Bathrooms</th>\n      <th>Address</th>\n      <th>Land area</th>\n      <th>CV</th>\n      <th>Latitude</th>\n      <th>Longitude</th>\n      <th>SA1</th>\n      <th>0-19 years</th>\n      <th>20-29 years</th>\n      <th>30-39 years</th>\n      <th>40-49 years</th>\n      <th>50-59 years</th>\n      <th>60+ years</th>\n      <th>Suburbs</th>\n      <th>C18_CURPop</th>\n    </tr>\n  </thead>\n  <tbody>\n    <tr>\n      <th>0</th>\n      <td>5</td>\n      <td>3.0</td>\n      <td>106 Lawrence Crescent Hill Park, Auckland</td>\n      <td>714</td>\n      <td>960000</td>\n      <td>-37.012920</td>\n      <td>174.904069</td>\n      <td>7009770</td>\n      <td>48</td>\n      <td>27</td>\n      <td>24</td>\n      <td>21</td>\n      <td>24</td>\n      <td>21</td>\n      <td>Manurewa</td>\n      <td>174</td>\n    </tr>\n    <tr>\n      <th>1</th>\n      <td>5</td>\n      <td>3.0</td>\n      <td>8 Corsica Way Karaka, Auckland</td>\n      <td>564</td>\n      <td>1250000</td>\n      <td>-37.063672</td>\n      <td>174.922912</td>\n      <td>7009991</td>\n      <td>42</td>\n      <td>18</td>\n      <td>12</td>\n      <td>21</td>\n      <td>15</td>\n      <td>30</td>\n      <td>Karaka</td>\n      <td>129</td>\n    </tr>\n    <tr>\n      <th>2</th>\n      <td>6</td>\n      <td>4.0</td>\n      <td>243 Harbourside Drive Karaka, Auckland</td>\n      <td>626</td>\n      <td>1250000</td>\n      <td>-37.063580</td>\n      <td>174.924044</td>\n      <td>7009991</td>\n      <td>42</td>\n      <td>18</td>\n      <td>12</td>\n      <td>21</td>\n      <td>15</td>\n      <td>30</td>\n      <td>Karaka</td>\n      <td>129</td>\n    </tr>\n    <tr>\n      <th>3</th>\n      <td>2</td>\n      <td>1.0</td>\n      <td>2/30 Hardington Street Onehunga, Auckland</td>\n      <td>65</td>\n      <td>740000</td>\n      <td>-36.912996</td>\n      <td>174.787425</td>\n      <td>7007871</td>\n      <td>42</td>\n      <td>6</td>\n      <td>21</td>\n      <td>21</td>\n      <td>12</td>\n      <td>15</td>\n      <td>Onehunga</td>\n      <td>120</td>\n    </tr>\n    <tr>\n      <th>4</th>\n      <td>3</td>\n      <td>1.0</td>\n      <td>59 Israel Avenue Clover Park, Auckland</td>\n      <td>601</td>\n      <td>630000</td>\n      <td>-36.979037</td>\n      <td>174.892612</td>\n      <td>7008902</td>\n      <td>93</td>\n      <td>27</td>\n      <td>33</td>\n      <td>30</td>\n      <td>21</td>\n      <td>33</td>\n      <td>Clover Park</td>\n      <td>231</td>\n    </tr>\n  </tbody>\n</table>\n</div>",
            "text/plain": "   Bedrooms  Bathrooms                                    Address Land area  \\\n0         5        3.0  106 Lawrence Crescent Hill Park, Auckland       714   \n1         5        3.0             8 Corsica Way Karaka, Auckland       564   \n2         6        4.0     243 Harbourside Drive Karaka, Auckland       626   \n3         2        1.0  2/30 Hardington Street Onehunga, Auckland        65   \n4         3        1.0     59 Israel Avenue Clover Park, Auckland       601   \n\n        CV   Latitude   Longitude      SA1  0-19 years  20-29 years  \\\n0   960000 -37.012920  174.904069  7009770          48           27   \n1  1250000 -37.063672  174.922912  7009991          42           18   \n2  1250000 -37.063580  174.924044  7009991          42           18   \n3   740000 -36.912996  174.787425  7007871          42            6   \n4   630000 -36.979037  174.892612  7008902          93           27   \n\n   30-39 years  40-49 years  50-59 years  60+ years      Suburbs  C18_CURPop  \n0           24           21           24         21     Manurewa         174  \n1           12           21           15         30       Karaka         129  \n2           12           21           15         30       Karaka         129  \n3           21           21           12         15     Onehunga         120  \n4           33           30           21         33  Clover Park         231  "
          },
          "metadata": {}
        }
      ]
    },
    {
      "metadata": {},
      "cell_type": "markdown",
      "source": "Writing out to csv file"
    },
    {
      "metadata": {
        "trusted": true
      },
      "cell_type": "code",
      "source": "datafile.to_csv('Dataset_C18pop.csv', index=False)",
      "execution_count": 73,
      "outputs": []
    },
    {
      "metadata": {
        "trusted": true
      },
      "cell_type": "markdown",
      "source": "# Land Area Clean Up"
    },
    {
      "metadata": {
        "trusted": true
      },
      "cell_type": "code",
      "source": "# df_1 represent Dataset_C18pop\ndf_1 = pd.read_csv('Dataset_C18pop.csv')\nsample = df_1.head()",
      "execution_count": 86,
      "outputs": []
    },
    {
      "metadata": {
        "trusted": true
      },
      "cell_type": "code",
      "source": "sample",
      "execution_count": 75,
      "outputs": [
        {
          "output_type": "execute_result",
          "execution_count": 75,
          "data": {
            "text/html": "<div>\n<style scoped>\n    .dataframe tbody tr th:only-of-type {\n        vertical-align: middle;\n    }\n\n    .dataframe tbody tr th {\n        vertical-align: top;\n    }\n\n    .dataframe thead th {\n        text-align: right;\n    }\n</style>\n<table border=\"1\" class=\"dataframe\">\n  <thead>\n    <tr style=\"text-align: right;\">\n      <th></th>\n      <th>Bedrooms</th>\n      <th>Bathrooms</th>\n      <th>Address</th>\n      <th>Land area</th>\n      <th>CV</th>\n      <th>Latitude</th>\n      <th>Longitude</th>\n      <th>SA1</th>\n      <th>0-19 years</th>\n      <th>20-29 years</th>\n      <th>30-39 years</th>\n      <th>40-49 years</th>\n      <th>50-59 years</th>\n      <th>60+ years</th>\n      <th>Suburbs</th>\n      <th>C18_CURPop</th>\n    </tr>\n  </thead>\n  <tbody>\n    <tr>\n      <th>0</th>\n      <td>5</td>\n      <td>3.0</td>\n      <td>106 Lawrence Crescent Hill Park, Auckland</td>\n      <td>714</td>\n      <td>960000</td>\n      <td>-37.012920</td>\n      <td>174.904069</td>\n      <td>7009770</td>\n      <td>48</td>\n      <td>27</td>\n      <td>24</td>\n      <td>21</td>\n      <td>24</td>\n      <td>21</td>\n      <td>Manurewa</td>\n      <td>174</td>\n    </tr>\n    <tr>\n      <th>1</th>\n      <td>5</td>\n      <td>3.0</td>\n      <td>8 Corsica Way Karaka, Auckland</td>\n      <td>564</td>\n      <td>1250000</td>\n      <td>-37.063672</td>\n      <td>174.922912</td>\n      <td>7009991</td>\n      <td>42</td>\n      <td>18</td>\n      <td>12</td>\n      <td>21</td>\n      <td>15</td>\n      <td>30</td>\n      <td>Karaka</td>\n      <td>129</td>\n    </tr>\n    <tr>\n      <th>2</th>\n      <td>6</td>\n      <td>4.0</td>\n      <td>243 Harbourside Drive Karaka, Auckland</td>\n      <td>626</td>\n      <td>1250000</td>\n      <td>-37.063580</td>\n      <td>174.924044</td>\n      <td>7009991</td>\n      <td>42</td>\n      <td>18</td>\n      <td>12</td>\n      <td>21</td>\n      <td>15</td>\n      <td>30</td>\n      <td>Karaka</td>\n      <td>129</td>\n    </tr>\n    <tr>\n      <th>3</th>\n      <td>2</td>\n      <td>1.0</td>\n      <td>2/30 Hardington Street Onehunga, Auckland</td>\n      <td>65</td>\n      <td>740000</td>\n      <td>-36.912996</td>\n      <td>174.787425</td>\n      <td>7007871</td>\n      <td>42</td>\n      <td>6</td>\n      <td>21</td>\n      <td>21</td>\n      <td>12</td>\n      <td>15</td>\n      <td>Onehunga</td>\n      <td>120</td>\n    </tr>\n    <tr>\n      <th>4</th>\n      <td>3</td>\n      <td>1.0</td>\n      <td>59 Israel Avenue Clover Park, Auckland</td>\n      <td>601</td>\n      <td>630000</td>\n      <td>-36.979037</td>\n      <td>174.892612</td>\n      <td>7008902</td>\n      <td>93</td>\n      <td>27</td>\n      <td>33</td>\n      <td>30</td>\n      <td>21</td>\n      <td>33</td>\n      <td>Clover Park</td>\n      <td>231</td>\n    </tr>\n  </tbody>\n</table>\n</div>",
            "text/plain": "   Bedrooms  Bathrooms                                    Address Land area  \\\n0         5        3.0  106 Lawrence Crescent Hill Park, Auckland       714   \n1         5        3.0             8 Corsica Way Karaka, Auckland       564   \n2         6        4.0     243 Harbourside Drive Karaka, Auckland       626   \n3         2        1.0  2/30 Hardington Street Onehunga, Auckland        65   \n4         3        1.0     59 Israel Avenue Clover Park, Auckland       601   \n\n        CV   Latitude   Longitude      SA1  0-19 years  20-29 years  \\\n0   960000 -37.012920  174.904069  7009770          48           27   \n1  1250000 -37.063672  174.922912  7009991          42           18   \n2  1250000 -37.063580  174.924044  7009991          42           18   \n3   740000 -36.912996  174.787425  7007871          42            6   \n4   630000 -36.979037  174.892612  7008902          93           27   \n\n   30-39 years  40-49 years  50-59 years  60+ years      Suburbs  C18_CURPop  \n0           24           21           24         21     Manurewa         174  \n1           12           21           15         30       Karaka         129  \n2           12           21           15         30       Karaka         129  \n3           21           21           12         15     Onehunga         120  \n4           33           30           21         33  Clover Park         231  "
          },
          "metadata": {}
        }
      ]
    },
    {
      "metadata": {
        "trusted": true
      },
      "cell_type": "code",
      "source": "df_1[\"Land area\"] = df_1[\"Land area\"].str.extract('(\\d+)').astype(float)\ndf_1.describe()",
      "execution_count": 87,
      "outputs": [
        {
          "output_type": "execute_result",
          "execution_count": 87,
          "data": {
            "text/html": "<div>\n<style scoped>\n    .dataframe tbody tr th:only-of-type {\n        vertical-align: middle;\n    }\n\n    .dataframe tbody tr th {\n        vertical-align: top;\n    }\n\n    .dataframe thead th {\n        text-align: right;\n    }\n</style>\n<table border=\"1\" class=\"dataframe\">\n  <thead>\n    <tr style=\"text-align: right;\">\n      <th></th>\n      <th>Bedrooms</th>\n      <th>Bathrooms</th>\n      <th>Land area</th>\n      <th>CV</th>\n      <th>Latitude</th>\n      <th>Longitude</th>\n      <th>SA1</th>\n      <th>0-19 years</th>\n      <th>20-29 years</th>\n      <th>30-39 years</th>\n      <th>40-49 years</th>\n      <th>50-59 years</th>\n      <th>60+ years</th>\n      <th>C18_CURPop</th>\n    </tr>\n  </thead>\n  <tbody>\n    <tr>\n      <th>count</th>\n      <td>1051.000000</td>\n      <td>1049.000000</td>\n      <td>1051.000000</td>\n      <td>1.051000e+03</td>\n      <td>1051.000000</td>\n      <td>1051.000000</td>\n      <td>1.051000e+03</td>\n      <td>1051.000000</td>\n      <td>1051.000000</td>\n      <td>1051.000000</td>\n      <td>1051.000000</td>\n      <td>1051.000000</td>\n      <td>1051.000000</td>\n      <td>1051.000000</td>\n    </tr>\n    <tr>\n      <th>mean</th>\n      <td>3.777355</td>\n      <td>2.073403</td>\n      <td>856.989534</td>\n      <td>1.387521e+06</td>\n      <td>-36.893715</td>\n      <td>174.799325</td>\n      <td>7.006319e+06</td>\n      <td>47.549001</td>\n      <td>28.963844</td>\n      <td>27.042816</td>\n      <td>24.125595</td>\n      <td>22.615604</td>\n      <td>29.360609</td>\n      <td>179.914367</td>\n    </tr>\n    <tr>\n      <th>std</th>\n      <td>1.169412</td>\n      <td>0.992985</td>\n      <td>1588.156219</td>\n      <td>1.182939e+06</td>\n      <td>0.130100</td>\n      <td>0.119538</td>\n      <td>2.591262e+03</td>\n      <td>24.692205</td>\n      <td>21.037441</td>\n      <td>17.975408</td>\n      <td>10.942770</td>\n      <td>10.210578</td>\n      <td>21.805031</td>\n      <td>71.059280</td>\n    </tr>\n    <tr>\n      <th>min</th>\n      <td>1.000000</td>\n      <td>1.000000</td>\n      <td>40.000000</td>\n      <td>2.700000e+05</td>\n      <td>-37.265021</td>\n      <td>174.317078</td>\n      <td>7.001130e+06</td>\n      <td>0.000000</td>\n      <td>0.000000</td>\n      <td>0.000000</td>\n      <td>0.000000</td>\n      <td>0.000000</td>\n      <td>0.000000</td>\n      <td>3.000000</td>\n    </tr>\n    <tr>\n      <th>25%</th>\n      <td>3.000000</td>\n      <td>1.000000</td>\n      <td>321.000000</td>\n      <td>7.800000e+05</td>\n      <td>-36.950565</td>\n      <td>174.720779</td>\n      <td>7.004416e+06</td>\n      <td>33.000000</td>\n      <td>15.000000</td>\n      <td>15.000000</td>\n      <td>18.000000</td>\n      <td>15.000000</td>\n      <td>18.000000</td>\n      <td>138.000000</td>\n    </tr>\n    <tr>\n      <th>50%</th>\n      <td>4.000000</td>\n      <td>2.000000</td>\n      <td>571.000000</td>\n      <td>1.080000e+06</td>\n      <td>-36.893132</td>\n      <td>174.798575</td>\n      <td>7.006325e+06</td>\n      <td>45.000000</td>\n      <td>24.000000</td>\n      <td>24.000000</td>\n      <td>24.000000</td>\n      <td>21.000000</td>\n      <td>27.000000</td>\n      <td>174.000000</td>\n    </tr>\n    <tr>\n      <th>75%</th>\n      <td>4.000000</td>\n      <td>3.000000</td>\n      <td>825.000000</td>\n      <td>1.600000e+06</td>\n      <td>-36.855789</td>\n      <td>174.880944</td>\n      <td>7.008384e+06</td>\n      <td>57.000000</td>\n      <td>36.000000</td>\n      <td>33.000000</td>\n      <td>30.000000</td>\n      <td>27.000000</td>\n      <td>36.000000</td>\n      <td>210.000000</td>\n    </tr>\n    <tr>\n      <th>max</th>\n      <td>17.000000</td>\n      <td>8.000000</td>\n      <td>22240.000000</td>\n      <td>1.800000e+07</td>\n      <td>-36.177655</td>\n      <td>175.492424</td>\n      <td>7.011028e+06</td>\n      <td>201.000000</td>\n      <td>270.000000</td>\n      <td>177.000000</td>\n      <td>114.000000</td>\n      <td>90.000000</td>\n      <td>483.000000</td>\n      <td>789.000000</td>\n    </tr>\n  </tbody>\n</table>\n</div>",
            "text/plain": "          Bedrooms    Bathrooms     Land area            CV     Latitude  \\\ncount  1051.000000  1049.000000   1051.000000  1.051000e+03  1051.000000   \nmean      3.777355     2.073403    856.989534  1.387521e+06   -36.893715   \nstd       1.169412     0.992985   1588.156219  1.182939e+06     0.130100   \nmin       1.000000     1.000000     40.000000  2.700000e+05   -37.265021   \n25%       3.000000     1.000000    321.000000  7.800000e+05   -36.950565   \n50%       4.000000     2.000000    571.000000  1.080000e+06   -36.893132   \n75%       4.000000     3.000000    825.000000  1.600000e+06   -36.855789   \nmax      17.000000     8.000000  22240.000000  1.800000e+07   -36.177655   \n\n         Longitude           SA1   0-19 years  20-29 years  30-39 years  \\\ncount  1051.000000  1.051000e+03  1051.000000  1051.000000  1051.000000   \nmean    174.799325  7.006319e+06    47.549001    28.963844    27.042816   \nstd       0.119538  2.591262e+03    24.692205    21.037441    17.975408   \nmin     174.317078  7.001130e+06     0.000000     0.000000     0.000000   \n25%     174.720779  7.004416e+06    33.000000    15.000000    15.000000   \n50%     174.798575  7.006325e+06    45.000000    24.000000    24.000000   \n75%     174.880944  7.008384e+06    57.000000    36.000000    33.000000   \nmax     175.492424  7.011028e+06   201.000000   270.000000   177.000000   \n\n       40-49 years  50-59 years    60+ years   C18_CURPop  \ncount  1051.000000  1051.000000  1051.000000  1051.000000  \nmean     24.125595    22.615604    29.360609   179.914367  \nstd      10.942770    10.210578    21.805031    71.059280  \nmin       0.000000     0.000000     0.000000     3.000000  \n25%      18.000000    15.000000    18.000000   138.000000  \n50%      24.000000    21.000000    27.000000   174.000000  \n75%      30.000000    27.000000    36.000000   210.000000  \nmax     114.000000    90.000000   483.000000   789.000000  "
          },
          "metadata": {}
        }
      ]
    },
    {
      "metadata": {
        "trusted": true
      },
      "cell_type": "code",
      "source": "df_1.to_csv('Dataset_C18pop.csv', index=False)",
      "execution_count": 88,
      "outputs": []
    },
    {
      "metadata": {},
      "cell_type": "markdown",
      "source": "# Add dev index"
    },
    {
      "metadata": {
        "trusted": true
      },
      "cell_type": "code",
      "source": "# df_1 represents Dataset_C18pop\n# df_2 represents DevIndex\ndf_1 = pd.read_csv('Dataset_C18pop.csv')\ndf_2 = pd.read_csv('DevIndex.csv')\ndf_1.head()",
      "execution_count": 99,
      "outputs": [
        {
          "output_type": "execute_result",
          "execution_count": 99,
          "data": {
            "text/html": "<div>\n<style scoped>\n    .dataframe tbody tr th:only-of-type {\n        vertical-align: middle;\n    }\n\n    .dataframe tbody tr th {\n        vertical-align: top;\n    }\n\n    .dataframe thead th {\n        text-align: right;\n    }\n</style>\n<table border=\"1\" class=\"dataframe\">\n  <thead>\n    <tr style=\"text-align: right;\">\n      <th></th>\n      <th>Bedrooms</th>\n      <th>Bathrooms</th>\n      <th>Address</th>\n      <th>Land area</th>\n      <th>CV</th>\n      <th>Latitude</th>\n      <th>Longitude</th>\n      <th>SA1</th>\n      <th>0-19 years</th>\n      <th>20-29 years</th>\n      <th>30-39 years</th>\n      <th>40-49 years</th>\n      <th>50-59 years</th>\n      <th>60+ years</th>\n      <th>Suburbs</th>\n      <th>C18_CURPop</th>\n    </tr>\n  </thead>\n  <tbody>\n    <tr>\n      <th>0</th>\n      <td>5</td>\n      <td>3.0</td>\n      <td>106 Lawrence Crescent Hill Park, Auckland</td>\n      <td>714.0</td>\n      <td>960000</td>\n      <td>-37.012920</td>\n      <td>174.904069</td>\n      <td>7009770</td>\n      <td>48</td>\n      <td>27</td>\n      <td>24</td>\n      <td>21</td>\n      <td>24</td>\n      <td>21</td>\n      <td>Manurewa</td>\n      <td>174</td>\n    </tr>\n    <tr>\n      <th>1</th>\n      <td>5</td>\n      <td>3.0</td>\n      <td>8 Corsica Way Karaka, Auckland</td>\n      <td>564.0</td>\n      <td>1250000</td>\n      <td>-37.063672</td>\n      <td>174.922912</td>\n      <td>7009991</td>\n      <td>42</td>\n      <td>18</td>\n      <td>12</td>\n      <td>21</td>\n      <td>15</td>\n      <td>30</td>\n      <td>Karaka</td>\n      <td>129</td>\n    </tr>\n    <tr>\n      <th>2</th>\n      <td>6</td>\n      <td>4.0</td>\n      <td>243 Harbourside Drive Karaka, Auckland</td>\n      <td>626.0</td>\n      <td>1250000</td>\n      <td>-37.063580</td>\n      <td>174.924044</td>\n      <td>7009991</td>\n      <td>42</td>\n      <td>18</td>\n      <td>12</td>\n      <td>21</td>\n      <td>15</td>\n      <td>30</td>\n      <td>Karaka</td>\n      <td>129</td>\n    </tr>\n    <tr>\n      <th>3</th>\n      <td>2</td>\n      <td>1.0</td>\n      <td>2/30 Hardington Street Onehunga, Auckland</td>\n      <td>65.0</td>\n      <td>740000</td>\n      <td>-36.912996</td>\n      <td>174.787425</td>\n      <td>7007871</td>\n      <td>42</td>\n      <td>6</td>\n      <td>21</td>\n      <td>21</td>\n      <td>12</td>\n      <td>15</td>\n      <td>Onehunga</td>\n      <td>120</td>\n    </tr>\n    <tr>\n      <th>4</th>\n      <td>3</td>\n      <td>1.0</td>\n      <td>59 Israel Avenue Clover Park, Auckland</td>\n      <td>601.0</td>\n      <td>630000</td>\n      <td>-36.979037</td>\n      <td>174.892612</td>\n      <td>7008902</td>\n      <td>93</td>\n      <td>27</td>\n      <td>33</td>\n      <td>30</td>\n      <td>21</td>\n      <td>33</td>\n      <td>Clover Park</td>\n      <td>231</td>\n    </tr>\n  </tbody>\n</table>\n</div>",
            "text/plain": "   Bedrooms  Bathrooms                                    Address  Land area  \\\n0         5        3.0  106 Lawrence Crescent Hill Park, Auckland      714.0   \n1         5        3.0             8 Corsica Way Karaka, Auckland      564.0   \n2         6        4.0     243 Harbourside Drive Karaka, Auckland      626.0   \n3         2        1.0  2/30 Hardington Street Onehunga, Auckland       65.0   \n4         3        1.0     59 Israel Avenue Clover Park, Auckland      601.0   \n\n        CV   Latitude   Longitude      SA1  0-19 years  20-29 years  \\\n0   960000 -37.012920  174.904069  7009770          48           27   \n1  1250000 -37.063672  174.922912  7009991          42           18   \n2  1250000 -37.063580  174.924044  7009991          42           18   \n3   740000 -36.912996  174.787425  7007871          42            6   \n4   630000 -36.979037  174.892612  7008902          93           27   \n\n   30-39 years  40-49 years  50-59 years  60+ years      Suburbs  C18_CURPop  \n0           24           21           24         21     Manurewa         174  \n1           12           21           15         30       Karaka         129  \n2           12           21           15         30       Karaka         129  \n3           21           21           12         15     Onehunga         120  \n4           33           30           21         33  Clover Park         231  "
          },
          "metadata": {}
        }
      ]
    },
    {
      "metadata": {
        "trusted": true
      },
      "cell_type": "code",
      "source": "# rename the key\ndf_2 = df_2.rename({'SA12018_code':'SA1','NZDep2018':'DepIndex'}, axis=1)\ndf_2.head()",
      "execution_count": 100,
      "outputs": [
        {
          "output_type": "execute_result",
          "execution_count": 100,
          "data": {
            "text/html": "<div>\n<style scoped>\n    .dataframe tbody tr th:only-of-type {\n        vertical-align: middle;\n    }\n\n    .dataframe tbody tr th {\n        vertical-align: top;\n    }\n\n    .dataframe thead th {\n        text-align: right;\n    }\n</style>\n<table border=\"1\" class=\"dataframe\">\n  <thead>\n    <tr style=\"text-align: right;\">\n      <th></th>\n      <th>SA1</th>\n      <th>DepIndex</th>\n      <th>NZDep2018_Score</th>\n      <th>URPopnSA1_2018</th>\n      <th>SA22018_code</th>\n      <th>SA22018_name</th>\n    </tr>\n  </thead>\n  <tbody>\n    <tr>\n      <th>0</th>\n      <td>7000000</td>\n      <td>10.0</td>\n      <td>1245.0</td>\n      <td>141</td>\n      <td>100100</td>\n      <td>North Cape</td>\n    </tr>\n    <tr>\n      <th>1</th>\n      <td>7000001</td>\n      <td>10.0</td>\n      <td>1245.0</td>\n      <td>114</td>\n      <td>100100</td>\n      <td>North Cape</td>\n    </tr>\n    <tr>\n      <th>2</th>\n      <td>7000002</td>\n      <td>NaN</td>\n      <td>NaN</td>\n      <td>0</td>\n      <td>100300</td>\n      <td>Inlets Far North District</td>\n    </tr>\n    <tr>\n      <th>3</th>\n      <td>7000003</td>\n      <td>10.0</td>\n      <td>1207.0</td>\n      <td>225</td>\n      <td>100100</td>\n      <td>North Cape</td>\n    </tr>\n    <tr>\n      <th>4</th>\n      <td>7000004</td>\n      <td>9.0</td>\n      <td>1093.0</td>\n      <td>138</td>\n      <td>100100</td>\n      <td>North Cape</td>\n    </tr>\n  </tbody>\n</table>\n</div>",
            "text/plain": "       SA1  DepIndex  NZDep2018_Score  URPopnSA1_2018  SA22018_code  \\\n0  7000000      10.0           1245.0             141        100100   \n1  7000001      10.0           1245.0             114        100100   \n2  7000002       NaN              NaN               0        100300   \n3  7000003      10.0           1207.0             225        100100   \n4  7000004       9.0           1093.0             138        100100   \n\n                SA22018_name  \n0                 North Cape  \n1                 North Cape  \n2  Inlets Far North District  \n3                 North Cape  \n4                 North Cape  "
          },
          "metadata": {}
        }
      ]
    },
    {
      "metadata": {
        "trusted": true
      },
      "cell_type": "code",
      "source": "df_1 = df_1.merge(df_2[['SA1', 'DepIndex']], on='SA1', how='left')\ndf_1.head()",
      "execution_count": 102,
      "outputs": [
        {
          "output_type": "execute_result",
          "execution_count": 102,
          "data": {
            "text/html": "<div>\n<style scoped>\n    .dataframe tbody tr th:only-of-type {\n        vertical-align: middle;\n    }\n\n    .dataframe tbody tr th {\n        vertical-align: top;\n    }\n\n    .dataframe thead th {\n        text-align: right;\n    }\n</style>\n<table border=\"1\" class=\"dataframe\">\n  <thead>\n    <tr style=\"text-align: right;\">\n      <th></th>\n      <th>Bedrooms</th>\n      <th>Bathrooms</th>\n      <th>Address</th>\n      <th>Land area</th>\n      <th>CV</th>\n      <th>Latitude</th>\n      <th>Longitude</th>\n      <th>SA1</th>\n      <th>0-19 years</th>\n      <th>20-29 years</th>\n      <th>30-39 years</th>\n      <th>40-49 years</th>\n      <th>50-59 years</th>\n      <th>60+ years</th>\n      <th>Suburbs</th>\n      <th>C18_CURPop</th>\n      <th>DepIndex</th>\n    </tr>\n  </thead>\n  <tbody>\n    <tr>\n      <th>0</th>\n      <td>5</td>\n      <td>3.0</td>\n      <td>106 Lawrence Crescent Hill Park, Auckland</td>\n      <td>714.0</td>\n      <td>960000</td>\n      <td>-37.012920</td>\n      <td>174.904069</td>\n      <td>7009770</td>\n      <td>48</td>\n      <td>27</td>\n      <td>24</td>\n      <td>21</td>\n      <td>24</td>\n      <td>21</td>\n      <td>Manurewa</td>\n      <td>174</td>\n      <td>6.0</td>\n    </tr>\n    <tr>\n      <th>1</th>\n      <td>5</td>\n      <td>3.0</td>\n      <td>8 Corsica Way Karaka, Auckland</td>\n      <td>564.0</td>\n      <td>1250000</td>\n      <td>-37.063672</td>\n      <td>174.922912</td>\n      <td>7009991</td>\n      <td>42</td>\n      <td>18</td>\n      <td>12</td>\n      <td>21</td>\n      <td>15</td>\n      <td>30</td>\n      <td>Karaka</td>\n      <td>129</td>\n      <td>1.0</td>\n    </tr>\n    <tr>\n      <th>2</th>\n      <td>6</td>\n      <td>4.0</td>\n      <td>243 Harbourside Drive Karaka, Auckland</td>\n      <td>626.0</td>\n      <td>1250000</td>\n      <td>-37.063580</td>\n      <td>174.924044</td>\n      <td>7009991</td>\n      <td>42</td>\n      <td>18</td>\n      <td>12</td>\n      <td>21</td>\n      <td>15</td>\n      <td>30</td>\n      <td>Karaka</td>\n      <td>129</td>\n      <td>1.0</td>\n    </tr>\n    <tr>\n      <th>3</th>\n      <td>2</td>\n      <td>1.0</td>\n      <td>2/30 Hardington Street Onehunga, Auckland</td>\n      <td>65.0</td>\n      <td>740000</td>\n      <td>-36.912996</td>\n      <td>174.787425</td>\n      <td>7007871</td>\n      <td>42</td>\n      <td>6</td>\n      <td>21</td>\n      <td>21</td>\n      <td>12</td>\n      <td>15</td>\n      <td>Onehunga</td>\n      <td>120</td>\n      <td>2.0</td>\n    </tr>\n    <tr>\n      <th>4</th>\n      <td>3</td>\n      <td>1.0</td>\n      <td>59 Israel Avenue Clover Park, Auckland</td>\n      <td>601.0</td>\n      <td>630000</td>\n      <td>-36.979037</td>\n      <td>174.892612</td>\n      <td>7008902</td>\n      <td>93</td>\n      <td>27</td>\n      <td>33</td>\n      <td>30</td>\n      <td>21</td>\n      <td>33</td>\n      <td>Clover Park</td>\n      <td>231</td>\n      <td>9.0</td>\n    </tr>\n  </tbody>\n</table>\n</div>",
            "text/plain": "   Bedrooms  Bathrooms                                    Address  Land area  \\\n0         5        3.0  106 Lawrence Crescent Hill Park, Auckland      714.0   \n1         5        3.0             8 Corsica Way Karaka, Auckland      564.0   \n2         6        4.0     243 Harbourside Drive Karaka, Auckland      626.0   \n3         2        1.0  2/30 Hardington Street Onehunga, Auckland       65.0   \n4         3        1.0     59 Israel Avenue Clover Park, Auckland      601.0   \n\n        CV   Latitude   Longitude      SA1  0-19 years  20-29 years  \\\n0   960000 -37.012920  174.904069  7009770          48           27   \n1  1250000 -37.063672  174.922912  7009991          42           18   \n2  1250000 -37.063580  174.924044  7009991          42           18   \n3   740000 -36.912996  174.787425  7007871          42            6   \n4   630000 -36.979037  174.892612  7008902          93           27   \n\n   30-39 years  40-49 years  50-59 years  60+ years      Suburbs  C18_CURPop  \\\n0           24           21           24         21     Manurewa         174   \n1           12           21           15         30       Karaka         129   \n2           12           21           15         30       Karaka         129   \n3           21           21           12         15     Onehunga         120   \n4           33           30           21         33  Clover Park         231   \n\n   DepIndex  \n0       6.0  \n1       1.0  \n2       1.0  \n3       2.0  \n4       9.0  "
          },
          "metadata": {}
        }
      ]
    },
    {
      "metadata": {
        "trusted": true
      },
      "cell_type": "code",
      "source": "df_1.to_csv('Dataset_C18pop.csv', index=False)",
      "execution_count": 103,
      "outputs": []
    }
  ],
  "metadata": {
    "kernelspec": {
      "name": "python36",
      "display_name": "Python 3.6",
      "language": "python"
    },
    "language_info": {
      "mimetype": "text/x-python",
      "nbconvert_exporter": "python",
      "name": "python",
      "pygments_lexer": "ipython3",
      "version": "3.6.6",
      "file_extension": ".py",
      "codemirror_mode": {
        "version": 3,
        "name": "ipython"
      }
    }
  },
  "nbformat": 4,
  "nbformat_minor": 2
}